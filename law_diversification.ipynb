{
 "cells": [
  {
   "cell_type": "code",
   "execution_count": null,
   "metadata": {},
   "outputs": [],
   "source": [
    "import numpy as np\n",
    "import matplotlib.pyplot as plt\n",
    "\n",
    "def calculate_portfolio_volatility(assets):\n",
    "    # Generate a random correlation matrix\n",
    "    np.random.seed(0)\n",
    "    correlation_matrix = np.random.uniform(-1, 1, size=(len(assets), len(assets)))\n",
    "    np.fill_diagonal(correlation_matrix, 1)\n",
    "\n",
    "    # Generate random asset returns\n",
    "    asset_returns = np.random.normal(0, 0.05, size=(1000, len(assets)))\n",
    "\n",
    "    # Calculate portfolio volatility for different numbers of assets\n",
    "    volatilities = []\n",
    "    for num_assets in range(1, len(assets) + 1):\n",
    "        asset_subset = asset_returns[:, :num_assets]\n",
    "        covariance_matrix = np.dot(asset_subset.T, np.dot(correlation_matrix[:num_assets, :num_assets], asset_subset))\n",
    "        portfolio_volatility = np.sqrt(np.dot(np.ones(num_assets), np.dot(covariance_matrix, np.ones(num_assets))))\n",
    "        volatilities.append(portfolio_volatility)\n",
    "\n",
    "    return volatilities\n",
    "\n",
    "# Define a list of assets\n",
    "assets = ['Asset A', 'Asset B', 'Asset C', 'Asset D', 'Asset E', 'Asset F', 'Asset G']\n",
    "\n",
    "# Calculate portfolio volatilities for different numbers of assets\n",
    "volatilities = calculate_portfolio_volatility(assets)\n",
    "\n",
    "# Plot the results\n",
    "num_assets = range(1, len(assets) + 1)\n",
    "plt.plot(num_assets, volatilities, marker='o')\n",
    "plt.xlabel('Number of Assets')\n",
    "plt.ylabel('Portfolio Volatility')\n",
    "plt.title('Diminishing Marginal Returns to Diversification')\n",
    "plt.grid(True)\n",
    "plt.show()\n"
   ]
  }
 ],
 "metadata": {
  "language_info": {
   "name": "python"
  },
  "orig_nbformat": 4
 },
 "nbformat": 4,
 "nbformat_minor": 2
}
